{
  "nbformat": 4,
  "nbformat_minor": 0,
  "metadata": {
    "colab": {
      "name": "Amazon ML Challenge.ipynb",
      "provenance": []
    },
    "kernelspec": {
      "name": "python3",
      "display_name": "Python 3"
    },
    "language_info": {
      "name": "python"
    },
    "accelerator": "GPU"
  },
  "cells": [
    {
      "cell_type": "code",
      "metadata": {
        "id": "GDQl53d5z9zM"
      },
      "source": [
        "from google.colab import drive\n",
        "drive.mount('/content/drive', force_remount = True)"
      ],
      "execution_count": null,
      "outputs": []
    },
    {
      "cell_type": "code",
      "metadata": {
        "id": "W5LtFstx3iOR",
        "colab": {
          "base_uri": "https://localhost:8080/"
        },
        "outputId": "c8c0e1f2-db25-48b0-d67c-a2e692807548"
      },
      "source": [
        "!unzip '/content/drive/MyDrive/dataset52a7b21.zip'"
      ],
      "execution_count": null,
      "outputs": [
        {
          "output_type": "stream",
          "text": [
            "unzip:  cannot find or open /content/drive/MyDrive/dataset52a7b21.zip, /content/drive/MyDrive/dataset52a7b21.zip.zip or /content/drive/MyDrive/dataset52a7b21.zip.ZIP.\n"
          ],
          "name": "stdout"
        }
      ]
    },
    {
      "cell_type": "code",
      "metadata": {
        "id": "ukEJCVnETTXK"
      },
      "source": [
        "import csv\n",
        "import pandas as pd\n",
        "import numpy as np\n",
        "import matplotlib.pyplot as plt\n",
        "import seaborn as sns\n",
        "import tensorflow as tf\n",
        "from tensorflow import keras\n",
        "from sklearn import model_selection, preprocessing, linear_model, naive_bayes, metrics, svm\n",
        "from sklearn.feature_extraction.text import TfidfVectorizer, CountVectorizer\n",
        "from sklearn import decomposition, ensemble\n",
        "import xgboost, textblob, string\n",
        "from keras.preprocessing import text, sequence\n",
        "from keras import layers, models, optimizers"
      ],
      "execution_count": 2,
      "outputs": []
    },
    {
      "cell_type": "code",
      "metadata": {
        "id": "MLWjqA7RT_AZ"
      },
      "source": [
        "data = pd.read_csv('/content/drive/MyDrive/Amazon ML Challenge/dataset/train.csv', escapechar = \"\\\\\", quoting = csv.QUOTE_NONE)"
      ],
      "execution_count": 3,
      "outputs": []
    },
    {
      "cell_type": "code",
      "metadata": {
        "id": "H1JFexoDUGM1",
        "colab": {
          "base_uri": "https://localhost:8080/",
          "height": 203
        },
        "outputId": "071cb4cb-4b12-4eea-e4d7-ebb185a39f9e"
      },
      "source": [
        "data.head()"
      ],
      "execution_count": null,
      "outputs": [
        {
          "output_type": "execute_result",
          "data": {
            "text/html": [
              "<div>\n",
              "<style scoped>\n",
              "    .dataframe tbody tr th:only-of-type {\n",
              "        vertical-align: middle;\n",
              "    }\n",
              "\n",
              "    .dataframe tbody tr th {\n",
              "        vertical-align: top;\n",
              "    }\n",
              "\n",
              "    .dataframe thead th {\n",
              "        text-align: right;\n",
              "    }\n",
              "</style>\n",
              "<table border=\"1\" class=\"dataframe\">\n",
              "  <thead>\n",
              "    <tr style=\"text-align: right;\">\n",
              "      <th></th>\n",
              "      <th>TITLE</th>\n",
              "      <th>DESCRIPTION</th>\n",
              "      <th>BULLET_POINTS</th>\n",
              "      <th>BRAND</th>\n",
              "      <th>BROWSE_NODE_ID</th>\n",
              "    </tr>\n",
              "  </thead>\n",
              "  <tbody>\n",
              "    <tr>\n",
              "      <th>0</th>\n",
              "      <td>Pete The Cat Bedtime Blues Doll, 14.5 Inch</td>\n",
              "      <td>Pete the Cat is the coolest, most popular cat ...</td>\n",
              "      <td>[Pete the Cat Bedtime Blues plush doll,Based o...</td>\n",
              "      <td>MerryMakers</td>\n",
              "      <td>0</td>\n",
              "    </tr>\n",
              "    <tr>\n",
              "      <th>1</th>\n",
              "      <td>The New Yorker NYHM014 Refrigerator Magnet, 2 ...</td>\n",
              "      <td>The New Yorker Handsome Cello Wrapped Hard Mag...</td>\n",
              "      <td>[Cat In A Tea Cup by New Yorker cover artist G...</td>\n",
              "      <td>The New Yorker</td>\n",
              "      <td>1</td>\n",
              "    </tr>\n",
              "    <tr>\n",
              "      <th>2</th>\n",
              "      <td>The Ultimate Self-Sufficiency Handbook: A Comp...</td>\n",
              "      <td>NaN</td>\n",
              "      <td>Skyhorse Publishing</td>\n",
              "      <td>imusti</td>\n",
              "      <td>2</td>\n",
              "    </tr>\n",
              "    <tr>\n",
              "      <th>3</th>\n",
              "      <td>Amway Nutrilite Kids Chewable Iron Tablets (100)</td>\n",
              "      <td>NaN</td>\n",
              "      <td>[Nutrilite Kids,Chewable Iron Tablets,Quantity...</td>\n",
              "      <td>Amway</td>\n",
              "      <td>3</td>\n",
              "    </tr>\n",
              "    <tr>\n",
              "      <th>4</th>\n",
              "      <td>Teacher Planner Company A4 6 Lesson Academic T...</td>\n",
              "      <td>NaN</td>\n",
              "      <td>NaN</td>\n",
              "      <td>NaN</td>\n",
              "      <td>4</td>\n",
              "    </tr>\n",
              "  </tbody>\n",
              "</table>\n",
              "</div>"
            ],
            "text/plain": [
              "                                               TITLE  ... BROWSE_NODE_ID\n",
              "0         Pete The Cat Bedtime Blues Doll, 14.5 Inch  ...              0\n",
              "1  The New Yorker NYHM014 Refrigerator Magnet, 2 ...  ...              1\n",
              "2  The Ultimate Self-Sufficiency Handbook: A Comp...  ...              2\n",
              "3   Amway Nutrilite Kids Chewable Iron Tablets (100)  ...              3\n",
              "4  Teacher Planner Company A4 6 Lesson Academic T...  ...              4\n",
              "\n",
              "[5 rows x 5 columns]"
            ]
          },
          "metadata": {
            "tags": []
          },
          "execution_count": 5
        }
      ]
    },
    {
      "cell_type": "code",
      "metadata": {
        "colab": {
          "base_uri": "https://localhost:8080/"
        },
        "id": "wcn4PdEDV81U",
        "outputId": "f3715b7e-a7e8-4fda-9069-a5ca4beb51f3"
      },
      "source": [
        "data.shape"
      ],
      "execution_count": null,
      "outputs": [
        {
          "output_type": "execute_result",
          "data": {
            "text/plain": [
              "(2903024, 5)"
            ]
          },
          "metadata": {
            "tags": []
          },
          "execution_count": 4
        }
      ]
    },
    {
      "cell_type": "code",
      "metadata": {
        "id": "1S6SvsRdFPlM"
      },
      "source": [
        "a = data['BROWSE_NODE_ID'].value_counts(ascending = True)\n",
        "map = dict(a)\n",
        "#ones = data[data['BROWSE_NODE_ID'].map(lambda x: map[x]) == 1]\n",
        "multiples =  data[data['BROWSE_NODE_ID'].map(lambda x: map[x]) >= 500]"
      ],
      "execution_count": 4,
      "outputs": []
    },
    {
      "cell_type": "code",
      "metadata": {
        "id": "M7kbK1LPMaof",
        "colab": {
          "base_uri": "https://localhost:8080/"
        },
        "outputId": "b6b068c1-7866-4c17-8664-28e71505b4b4"
      },
      "source": [
        "multiples.shape"
      ],
      "execution_count": 5,
      "outputs": [
        {
          "output_type": "execute_result",
          "data": {
            "text/plain": [
              "(2357836, 5)"
            ]
          },
          "metadata": {
            "tags": []
          },
          "execution_count": 5
        }
      ]
    },
    {
      "cell_type": "code",
      "metadata": {
        "colab": {
          "base_uri": "https://localhost:8080/"
        },
        "id": "8jw6OjhARYZU",
        "outputId": "88e6a73f-356b-4e5b-ff8d-d3851831915c"
      },
      "source": [
        "len(multiples['BROWSE_NODE_ID'].unique())"
      ],
      "execution_count": null,
      "outputs": [
        {
          "output_type": "execute_result",
          "data": {
            "text/plain": [
              "863"
            ]
          },
          "metadata": {
            "tags": []
          },
          "execution_count": 7
        }
      ]
    },
    {
      "cell_type": "code",
      "metadata": {
        "id": "8WmtosmRD0WN"
      },
      "source": [
        "c, d = model_selection.train_test_split(multiples, train_size = 500000, random_state = 42, stratify = multiples['BROWSE_NODE_ID'])"
      ],
      "execution_count": 6,
      "outputs": []
    },
    {
      "cell_type": "code",
      "metadata": {
        "colab": {
          "base_uri": "https://localhost:8080/"
        },
        "id": "Pw5-30l0R2qv",
        "outputId": "c7beae98-6959-4f04-ec89-bce841450fc2"
      },
      "source": [
        "len(c['BROWSE_NODE_ID'].unique())"
      ],
      "execution_count": 7,
      "outputs": [
        {
          "output_type": "execute_result",
          "data": {
            "text/plain": [
              "863"
            ]
          },
          "metadata": {
            "tags": []
          },
          "execution_count": 7
        }
      ]
    },
    {
      "cell_type": "code",
      "metadata": {
        "id": "_moYkutWRpXB",
        "colab": {
          "base_uri": "https://localhost:8080/"
        },
        "outputId": "4e9463bb-f744-4b16-94c2-27feb7bab00f"
      },
      "source": [
        "c.shape"
      ],
      "execution_count": 8,
      "outputs": [
        {
          "output_type": "execute_result",
          "data": {
            "text/plain": [
              "(500000, 5)"
            ]
          },
          "metadata": {
            "tags": []
          },
          "execution_count": 8
        }
      ]
    },
    {
      "cell_type": "code",
      "metadata": {
        "id": "s7Gwrt0kilcs"
      },
      "source": [
        "targets = c['BROWSE_NODE_ID']"
      ],
      "execution_count": 9,
      "outputs": []
    },
    {
      "cell_type": "code",
      "metadata": {
        "id": "8_Am9CAWs-pA"
      },
      "source": [
        "categories = list(targets.unique())\n",
        "map_targets_to_cat = dict()\n",
        "map_cat_to_targets = dict()\n",
        "for i in range(len(categories)):\n",
        "  map_targets_to_cat[categories[i]] = i\n",
        "  map_cat_to_targets[i] = categories[i]"
      ],
      "execution_count": 10,
      "outputs": []
    },
    {
      "cell_type": "code",
      "metadata": {
        "id": "0aOb3m8Ns_ox"
      },
      "source": [
        "cat = targets.map(lambda x: map_targets_to_cat[x])"
      ],
      "execution_count": 11,
      "outputs": []
    },
    {
      "cell_type": "code",
      "metadata": {
        "id": "QQVgK1qauh_t"
      },
      "source": [
        "features = c['TITLE'].replace(np.nan, '', regex = True) + ' ' + c['DESCRIPTION'].replace(np.nan, '', regex = True) + ' ' + c['BULLET_POINTS'].replace(np.nan, '', regex = True)"
      ],
      "execution_count": 12,
      "outputs": []
    },
    {
      "cell_type": "code",
      "metadata": {
        "id": "IGtzvSAOw14A"
      },
      "source": [
        "new_data = pd.DataFrame({'features' : features, 'cat' : cat})"
      ],
      "execution_count": 13,
      "outputs": []
    },
    {
      "cell_type": "code",
      "metadata": {
        "id": "44wLlSm97R-H"
      },
      "source": [
        "from sklearn.model_selection import train_test_split\n",
        "train, test = train_test_split(new_data, train_size = 400000, stratify = new_data['cat'], random_state = 42)"
      ],
      "execution_count": 14,
      "outputs": []
    },
    {
      "cell_type": "code",
      "metadata": {
        "id": "FXVIJJMEX1Ms"
      },
      "source": [
        "X_train = train['features']\n",
        "X_test = test['features']\n",
        "\n",
        "y_train = train['cat']\n",
        "y_test = test['cat']"
      ],
      "execution_count": 15,
      "outputs": []
    },
    {
      "cell_type": "code",
      "metadata": {
        "id": "0PzPtVW1Aumm"
      },
      "source": [
        "tokenizer = keras.preprocessing.text.Tokenizer(num_words = 2500)\n",
        "tokenizer.fit_on_texts(X_train)"
      ],
      "execution_count": 16,
      "outputs": []
    },
    {
      "cell_type": "code",
      "metadata": {
        "id": "0K4m0Tv7GPfQ",
        "colab": {
          "base_uri": "https://localhost:8080/"
        },
        "outputId": "a095b1ce-0030-45e8-a883-4d79adc2f264"
      },
      "source": [
        "len(tokenizer.word_index)"
      ],
      "execution_count": 17,
      "outputs": [
        {
          "output_type": "execute_result",
          "data": {
            "text/plain": [
              "406376"
            ]
          },
          "metadata": {
            "tags": []
          },
          "execution_count": 17
        }
      ]
    },
    {
      "cell_type": "code",
      "metadata": {
        "id": "z1HNNeaFLFdP"
      },
      "source": [
        "encoded_docs = tokenizer.texts_to_sequences(X_train)"
      ],
      "execution_count": null,
      "outputs": []
    },
    {
      "cell_type": "code",
      "metadata": {
        "id": "9QnKf3a6ad9e"
      },
      "source": [
        "padded_docs = sequence.pad_sequences(encoded_docs, padding = 'post')"
      ],
      "execution_count": null,
      "outputs": []
    },
    {
      "cell_type": "code",
      "metadata": {
        "id": "Xh70h2p-dH_p"
      },
      "source": [
        "X_train_encoded = np.array(padded_docs)"
      ],
      "execution_count": null,
      "outputs": []
    },
    {
      "cell_type": "code",
      "metadata": {
        "id": "2k9w0GFWcqXK"
      },
      "source": [
        "encoded_docs = tokenizer.texts_to_sequences(X_test)"
      ],
      "execution_count": null,
      "outputs": []
    },
    {
      "cell_type": "code",
      "metadata": {
        "id": "GaxROpO9dGIp"
      },
      "source": [
        "padded_docs = sequence.pad_sequences(encoded_docs, padding = 'post')"
      ],
      "execution_count": null,
      "outputs": []
    },
    {
      "cell_type": "code",
      "metadata": {
        "id": "RMXjLZfpdKTK"
      },
      "source": [
        "X_test_encoded = np.array(padded_docs)"
      ],
      "execution_count": null,
      "outputs": []
    },
    {
      "cell_type": "code",
      "metadata": {
        "id": "bk69Y5seeoBE"
      },
      "source": [
        "model = keras.models.Sequential()\n",
        "model.add(keras.layers.Embedding(2500, 1024, input_shape = [None], mask_zero = True))\n",
        "model.add(keras.layers.GRU(1024, return_sequences = True))\n",
        "model.add(keras.layers.GRU(1024))\n",
        "model.add(keras.layers.Dense(863, activation = 'softmax'))"
      ],
      "execution_count": null,
      "outputs": []
    },
    {
      "cell_type": "code",
      "metadata": {
        "id": "y742mlAXflgo"
      },
      "source": [
        "model.compile(loss = 'sparse_categorical_crossentropy', optimizer = keras.optimizers.Adam(learning_rate = 0.001), metrics = ['accuracy'])"
      ],
      "execution_count": null,
      "outputs": []
    },
    {
      "cell_type": "code",
      "metadata": {
        "id": "NW0gfcbEgQPu"
      },
      "source": [
        "model.fit(X_train_encoded, y_train, validation_split = 0.1, batch_size = 16, initial_epoch = 0, epochs = 2)"
      ],
      "execution_count": null,
      "outputs": []
    },
    {
      "cell_type": "code",
      "metadata": {
        "colab": {
          "base_uri": "https://localhost:8080/"
        },
        "id": "d1BZ5G-ygrMd",
        "outputId": "1e5138e4-a1f1-4ca0-f2e4-c980f563930e"
      },
      "source": [
        "model.evaluate(X_test_encoded, y_test)"
      ],
      "execution_count": null,
      "outputs": [
        {
          "output_type": "stream",
          "text": [
            "1148/3125 [==========>...................] - ETA: 4:32 - loss: 1.3576 - accuracy: 0.6943"
          ],
          "name": "stdout"
        }
      ]
    },
    {
      "cell_type": "markdown",
      "metadata": {
        "id": "6suSk5WtBSp5"
      },
      "source": [
        "## Submissions"
      ]
    },
    {
      "cell_type": "code",
      "metadata": {
        "id": "MribYub8BjH6"
      },
      "source": [
        "model = keras.models.load_model('/content/drive/MyDrive/Amazon ML Challenge/Vishal_MK_model.h5')"
      ],
      "execution_count": 20,
      "outputs": []
    },
    {
      "cell_type": "code",
      "metadata": {
        "id": "JDHHrCXaCG3e"
      },
      "source": [
        "test_data = pd.read_csv('/content/drive/MyDrive/Amazon ML Challenge/dataset/test.csv', escapechar = \"\\\\\", quoting = csv.QUOTE_NONE)"
      ],
      "execution_count": 21,
      "outputs": []
    },
    {
      "cell_type": "code",
      "metadata": {
        "id": "LwR_k6GwDJ7N"
      },
      "source": [
        "features = test_data['TITLE'].replace(np.nan, '', regex = True) + ' ' + test_data['DESCRIPTION'].replace(np.nan, '', regex = True) + ' ' + test_data['BULLET_POINTS'].replace(np.nan, '', regex = True)"
      ],
      "execution_count": 28,
      "outputs": []
    },
    {
      "cell_type": "code",
      "metadata": {
        "id": "PNi6ldU7Djnb"
      },
      "source": [
        "encoded_docs = tokenizer.texts_to_sequences(features)"
      ],
      "execution_count": 31,
      "outputs": []
    },
    {
      "cell_type": "code",
      "metadata": {
        "id": "upLknUZ7D5_E"
      },
      "source": [
        "padded_docs = sequence.pad_sequences(encoded_docs, padding = 'post')"
      ],
      "execution_count": 32,
      "outputs": []
    },
    {
      "cell_type": "code",
      "metadata": {
        "id": "_eeFFPlhECfM"
      },
      "source": [
        "X_test_encoded = np.array(padded_docs)"
      ],
      "execution_count": 33,
      "outputs": []
    },
    {
      "cell_type": "code",
      "metadata": {
        "colab": {
          "base_uri": "https://localhost:8080/"
        },
        "id": "mFxGvjLLEGZG",
        "outputId": "e7c9cf8f-a238-4688-9d6f-73908380b6ca"
      },
      "source": [
        "X_test_encoded.shape"
      ],
      "execution_count": 34,
      "outputs": [
        {
          "output_type": "execute_result",
          "data": {
            "text/plain": [
              "(110775, 828)"
            ]
          },
          "metadata": {
            "tags": []
          },
          "execution_count": 34
        }
      ]
    },
    {
      "cell_type": "code",
      "metadata": {
        "id": "XfMwRgLKEO1S"
      },
      "source": [
        "predictions = np.argmax(model.predict(X_test_encoded), axis=-1)"
      ],
      "execution_count": 38,
      "outputs": []
    },
    {
      "cell_type": "code",
      "metadata": {
        "id": "U2DXMVQNKB0v"
      },
      "source": [
        "submissions = pd.DataFrame({'PRODUCT_ID' : test_data['PRODUCT_ID'], 'BROWSE_NODE_ID' : predictions})"
      ],
      "execution_count": 40,
      "outputs": []
    },
    {
      "cell_type": "code",
      "metadata": {
        "id": "qGHp-2fqKbm_"
      },
      "source": [
        "submissions['BROWSE_NODE_ID'] = submissions['BROWSE_NODE_ID'].map(lambda x: map_cat_to_targets[x])"
      ],
      "execution_count": 43,
      "outputs": []
    },
    {
      "cell_type": "code",
      "metadata": {
        "id": "gR2IJ4HaKdKI"
      },
      "source": [
        "submissions.to_csv('Submissions.csv', index = False)"
      ],
      "execution_count": 45,
      "outputs": []
    }
  ]
}